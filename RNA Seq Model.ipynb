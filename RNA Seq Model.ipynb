{
 "cells": [
  {
   "cell_type": "markdown",
   "id": "c8ab7c87-271c-4591-ba99-41cb28380532",
   "metadata": {},
   "source": [
    "## In this Notebook, we will work on [**Gene expression RNA-seq** Dataset](https://archive.ics.uci.edu/dataset/401/gene+expression+cancer+rna+seq)"
   ]
  },
  {
   "cell_type": "code",
   "execution_count": 1,
   "id": "768366bf-1117-4cc8-9b73-e94f63d35e1f",
   "metadata": {},
   "outputs": [],
   "source": [
    "import pandas as pd\n",
    "import numpy as np\n",
    "import matplotlib.pyplot as plt\n",
    "import warnings\n",
    "\n",
    "from sklearn.model_selection import train_test_split\n",
    "from sklearn.metrics import classification_report, accuracy_score\n",
    "from sklearn.ensemble import RandomForestClassifier\n",
    "from sklearn.model_selection import cross_val_score\n",
    "from sklearn.decomposition import PCA\n",
    "from sklearn.preprocessing import StandardScaler\n",
    "\n",
    "warnings.filterwarnings(\"ignore\")\n",
    "\n",
    "X = pd.read_csv(\"Datasets/TCGA-PANCAN-HiSeq-801x20531/data.csv\")\n",
    "y = pd.read_csv(\"Datasets/TCGA-PANCAN-HiSeq-801x20531/labels.csv\")"
   ]
  },
  {
   "cell_type": "markdown",
   "id": "f11d97ee-8afb-454c-b11b-b2cf6caa7672",
   "metadata": {},
   "source": [
    "##### The target label is One class of the following classes:  \n",
    "\n",
    ">**KIRC**: Kidney Renal Clear Cell Carcinoma  \n",
    ">**PRAD**: Prostate Adenocarcinoma  \n",
    ">**COAD**: Chronic Obstructive Pulmonary Disease (_Lungs_)  \n",
    ">**LUAD**: Lung Adenocarcinoma (_also Lungs_)  \n",
    ">**BRCA**: Breast Cancer $Gene$ (_consist of BCRA1 & BCRA2_)  \n",
    "\n",
    "##### The baseline level of performance of working with RNA sequence is:  \n",
    "- for models:\n",
    "  - Simple models: **60-80%**\n",
    "  - Complex models (_e.g. NN_): **90+%**\n",
    "- While students often reports a **90-95%** accuracy for _deep learning_ model in RNA sequence-based cancer classification.\n",
    "\n",
    "- $Goal$:  Make a RNA seq-based cancer classification model of **90+%** Accuracy.\n",
    "\n"
   ]
  },
  {
   "cell_type": "code",
   "execution_count": 2,
   "id": "60ede510-d5d9-4a0a-9f45-e621f8ed0f98",
   "metadata": {},
   "outputs": [
    {
     "data": {
      "image/png": "[encoded data removed]",
      "text/plain": [
       "<Figure size 640x480 with 1 Axes>"
      ]
     },
     "metadata": {},
     "output_type": "display_data"
    }
   ],
   "source": [
    "df = pd.concat([X, y], axis=1)\n",
    "\n",
    "df['Class'].value_counts().plot(kind='bar')\n",
    "plt.show()"
   ]
  },
  {
   "cell_type": "markdown",
   "id": "a5b5f0cf-fa37-4804-88c5-3c3e3b0104db",
   "metadata": {},
   "source": [
    "From the plot, we notice that our dataset is _unbalanced_, and the model may overfit some training patterns while completely ignore others based on the `random_state` value. An initial way to solve this is to **straify** the examples when splitting them based on classes of y, so that every class has the same train to test ratio of examples.  \n",
    "Another way to solve such problem is to choose a good model to work with unbalanced datasets, like **`Random Forest`** or **`Gradient Boosting`**.  \n",
    "\n",
    "##### First let's clean our dataset from any redundant features:  \n",
    "- We can control the tolerable variance of features to get only the significant features.\n",
    "- Or we can use a _Dimentionality Reduction_ method like **Principal Component Analysis (PCA)** to the most $X$ amount of components significant to predict our target label"
   ]
  },
  {
   "cell_type": "code",
   "execution_count": 3,
   "id": "8409e6b5-56e0-4037-8106-4b9130b66805",
   "metadata": {},
   "outputs": [],
   "source": [
    "feature_columns = df.columns.difference(['Unnamed: 0', 'Class']) # Removing unnecessary columns..\n",
    "low_variance_mask = df[feature_columns].var() < 1e-4 \n",
    "filtered_features = df[feature_columns].loc[:, ~low_variance_mask]\n"
   ]
  },
  {
   "cell_type": "code",
   "execution_count": 4,
   "id": "e846f53d-9a17-48e0-be65-c8bf55ee1caa",
   "metadata": {},
   "outputs": [],
   "source": [
    "y = df['Class']\n",
    "X_train, X_test, y_train, y_test = train_test_split(filtered_features, y, test_size=0.2, stratify=y)\n",
    "\n",
    "scaler = StandardScaler() \n",
    "X_train = scaler.fit_transform(X_train)\n",
    "X_test = scaler.transform(X_test)"
   ]
  },
  {
   "cell_type": "markdown",
   "id": "007a96e2-a442-4e7c-bc4a-1ad48c8231d5",
   "metadata": {},
   "source": [
    "Now let's test different values of the _hyperparameter_ $n$ _components, to deduce what's the best amount of components that best define the model with minimal information loss:    "
   ]
  },
  {
   "cell_type": "code",
   "execution_count": 5,
   "id": "58dc51af",
   "metadata": {},
   "outputs": [
    {
     "name": "stdout",
     "output_type": "stream",
     "text": [
      "n_components=10, Accuracy=0.9732\n",
      "n_components=20, Accuracy=0.9741\n",
      "n_components=30, Accuracy=0.9778\n",
      "n_components=40, Accuracy=0.9750\n",
      "n_components=50, Accuracy=0.9686\n",
      "n_components=100, Accuracy=0.9697\n",
      "Optimal n_components: 30\n"
     ]
    }
   ],
   "source": [
    "components_to_test = [10, 20, 30, 40, 50, 100]\n",
    "accuracy_scores = []\n",
    "\n",
    "for n_components in components_to_test:\n",
    "    pca = PCA(n_components=n_components)\n",
    "    X_reduced = pca.fit_transform(X_train)\n",
    "    \n",
    "    model = RandomForestClassifier(n_estimators=100, random_state=42)\n",
    "    scores = cross_val_score(model, X_reduced, y_train, cv=5, scoring='recall_macro')\n",
    "    \n",
    "    accuracy_scores.append(np.mean(scores))\n",
    "    print(f\"n_components={n_components}, Accuracy={np.mean(scores):.4f}\")\n",
    "\n",
    "optimal_n = components_to_test[np.argmax(accuracy_scores)]\n",
    "print(f\"Optimal n_components: {optimal_n}\")\n",
    "\n",
    "\n",
    "pca = PCA(n_components=optimal_n)  # Reduction of input features..\n",
    "X_train = pca.fit_transform(X_train)\n",
    "X_test = pca.transform(X_test)"
   ]
  },
  {
   "cell_type": "markdown",
   "id": "758e5643-bc19-4479-9fda-9ed2f4e30630",
   "metadata": {},
   "source": [
    "It looks like the best `recall` values comes from only $20$ components.  \n",
    "###### We're focusing on recall as it's very important in our medical application to tell the case if it has any signs of a specific cancer _even if it's not for certain that he has cancer_.  \n",
    "\n",
    "\n",
    "Now let's train the model using the `RandomForestClassifier` on our preprocessed data:  \n"
   ]
  },
  {
   "cell_type": "code",
   "execution_count": 6,
   "id": "81bd6b92-11c2-4fd7-8572-5e9b6f7e3456",
   "metadata": {},
   "outputs": [
    {
     "name": "stdout",
     "output_type": "stream",
     "text": [
      "              precision    recall  f1-score   support\n",
      "\n",
      "        BRCA       0.98      1.00      0.99        60\n",
      "        COAD       1.00      1.00      1.00        16\n",
      "        KIRC       1.00      0.93      0.97        30\n",
      "        LUAD       0.97      1.00      0.98        28\n",
      "        PRAD       1.00      1.00      1.00        27\n",
      "\n",
      "    accuracy                           0.99       161\n",
      "   macro avg       0.99      0.99      0.99       161\n",
      "weighted avg       0.99      0.99      0.99       161\n",
      "\n",
      "0.9875776397515528\n"
     ]
    }
   ],
   "source": [
    "model = RandomForestClassifier(n_estimators=100, random_state=42)\n",
    "model.fit(X_train, y_train)\n",
    "\n",
    "y_pred = model.predict(X_test)\n",
    "print(classification_report(y_test, y_pred))\n",
    "print(accuracy_score(y_test, y_pred))"
   ]
  },
  {
   "cell_type": "markdown",
   "id": "b94b7990-1b6f-4505-9179-bd7cc47f4410",
   "metadata": {},
   "source": [
    "The model's acuuracy ranges from $95.6\\%-99.38\\%$ with some variation in between:  \n",
    "```python\n",
    "(99.38 + 98.76 + 97.52 + 98.14 + 95.6) / 5\n",
    "(99.38 + 95.6 ) / 2\n",
    "```\n",
    "> Therfore the model averages about $97.88\\%$ which is better than the baseline performance of working on RNA-Seq datasets!  \n",
    "\n",
    "Now let's save the model, as well as all the preprocessing steps:  "
   ]
  },
  {
   "cell_type": "code",
   "execution_count": 7,
   "id": "2ed2cfd6",
   "metadata": {},
   "outputs": [
    {
     "data": {
      "text/plain": [
       "['Models/rna-seq_classifier.pkl']"
      ]
     },
     "execution_count": 7,
     "metadata": {},
     "output_type": "execute_result"
    }
   ],
   "source": [
    "from joblib import dump\n",
    "\n",
    "model_data = {'std_scaler': scaler, 'pca': pca, 'model': model}\n",
    "dump(model_data, \"Models/rna-seq_classifier.pkl\")"
   ]
  },
  {
   "cell_type": "markdown",
   "id": "9f208f8d",
   "metadata": {},
   "source": [
    "#### Now let's save a few samples for testing later:   "
   ]
  },
  {
   "cell_type": "code",
   "execution_count": 8,
   "id": "4872fba8",
   "metadata": {},
   "outputs": [],
   "source": [
    "subset = filtered_features.sample(n=5, replace=False)\n",
    "\n",
    "for i in range(subset.shape[0]):\n",
    "    subset.iloc[i].to_csv(f\"Test Samples/rna-seq/sample_{i+1}.csv\", index=False)"
   ]
  },
  {
   "cell_type": "markdown",
   "id": "75c83be8",
   "metadata": {},
   "source": [
    "Now let's try to preprocess the data and test the model on the samples:  "
   ]
  },
  {
   "cell_type": "code",
   "execution_count": 9,
   "id": "ede66933",
   "metadata": {},
   "outputs": [
    {
     "name": "stdout",
     "output_type": "stream",
     "text": [
      "Sample 1 predicted class: BRCA\n",
      "Sample 2 predicted class: BRCA\n",
      "Sample 3 predicted class: LUAD\n",
      "Sample 4 predicted class: BRCA\n",
      "Sample 5 predicted class: KIRC\n"
     ]
    }
   ],
   "source": [
    "for i in range(subset.shape[0]):\n",
    "    sample = pd.read_csv(f\"Test Samples/rna-seq/sample_{i+1}.csv\")\n",
    "    sample = sample.to_numpy().reshape(1, -1)\n",
    "\n",
    "    sample = scaler.transform(sample)\n",
    "    sample = pca.transform(sample)\n",
    "    print(f\"Sample {i+1} predicted class: {model.predict(sample)[0]}\")"
   ]
  },
  {
   "cell_type": "markdown",
   "id": "fdb52716-9dd4-4973-8621-780b98e44d0f",
   "metadata": {},
   "source": [
    "#### It seems to be working correctly, than means our work here is finally done!  \n",
    "\n",
    "### End of Notebook"
   ]
  }
 ],
 "metadata": {
  "kernelspec": {
   "display_name": "Mine and mine alone!!",
   "language": "python",
   "name": "local_kernel"
  },
  "language_info": {
   "codemirror_mode": {
    "name": "ipython",
    "version": 3
   },
   "file_extension": ".py",
   "mimetype": "text/x-python",
   "name": "python",
   "nbconvert_exporter": "python",
   "pygments_lexer": "ipython3",
   "version": "3.12.5"
  }
 },
 "nbformat": 4,
 "nbformat_minor": 5
}
